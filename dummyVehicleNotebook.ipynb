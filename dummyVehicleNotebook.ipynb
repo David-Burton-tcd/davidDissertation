{
 "cells": [
  {
   "cell_type": "code",
   "execution_count": 1,
   "metadata": {},
   "outputs": [
    {
     "name": "stdout",
     "output_type": "stream",
     "text": [
      "Requirement already satisfied: carla in c:\\users\\david\\appdata\\local\\programs\\python\\python38\\lib\\site-packages (0.9.15)\n",
      "Note: you may need to restart the kernel to use updated packages.\n"
     ]
    },
    {
     "name": "stderr",
     "output_type": "stream",
     "text": [
      "\n",
      "[notice] A new release of pip is available: 24.1.1 -> 24.1.2\n",
      "[notice] To update, run: python.exe -m pip install --upgrade pip\n"
     ]
    }
   ],
   "source": [
    "%pip install carla"
   ]
  },
  {
   "cell_type": "code",
   "execution_count": 2,
   "metadata": {},
   "outputs": [],
   "source": [
    "import carla\n",
    "import math\n",
    "import random\n",
    "import time\n",
    "# from slotManagement import *\n",
    "\n",
    "client = carla.Client('localhost', 2000)\n",
    "world = client.get_world()\n",
    "\n",
    "bp_lib = world.get_blueprint_library()\n",
    "spawn_points = world.get_map().get_spawn_points()\n",
    "vehicle_bp = bp_lib.find('vehicle.tesla.model3')\n",
    "\n",
    "traffic_manager = client.get_trafficmanager()\n",
    "\n",
    "dummy_spawn_point = spawn_points[20] #26\n",
    "\n",
    "# create our dummy vehicle at spawn point\n",
    "dummy_vehicle = world.try_spawn_actor(vehicle_bp, dummy_spawn_point)\n",
    "\n",
    "# slots = slots = initialize_grid(2, 67, dummy_vehicle)"
   ]
  },
  {
   "cell_type": "code",
   "execution_count": 3,
   "metadata": {},
   "outputs": [],
   "source": [
    "spawn_point_1 = spawn_points[20]\n",
    "route_1_indices = [20, 123, 147, 111, 189, 47, 41, 34, 184, 204, 20]\n",
    "route_1 = []\n",
    "for ind in route_1_indices:\n",
    "    route_1.append(spawn_points[ind].location)\n",
    "\n",
    "world.debug.draw_string(spawn_point_1.location, 'Spawn point 1', life_time=30, color=carla.Color(255,0,0))\n",
    "\n",
    "for ind in route_1_indices:\n",
    "    spawn_points[ind].location\n",
    "    world.debug.draw_string(spawn_points[ind].location, str(ind), life_time=60, color=carla.Color(255,0,0))\n",
    "\n",
    "# waypoints = [map.get_waypoint(transform.location) for transform in route]"
   ]
  },
  {
   "cell_type": "code",
   "execution_count": 4,
   "metadata": {},
   "outputs": [],
   "source": [
    "list_actor = world.get_actors()\n",
    "for actor_ in list_actor:\n",
    "    if isinstance(actor_, carla.TrafficLight):\n",
    "            # for every light, set to green\n",
    "        actor_.set_state(carla.TrafficLightState.Green) \n",
    "        actor_.set_green_time(1000.0)"
   ]
  },
  {
   "cell_type": "code",
   "execution_count": 5,
   "metadata": {},
   "outputs": [],
   "source": [
    "# SLOT LOCATION SCRIPT\n",
    "dummy_vehicle.set_autopilot(True) \n",
    "\n",
    "# Set parameters of TM vehicle control, we don't want lane changes\n",
    "traffic_manager.global_percentage_speed_difference(-30)\n",
    "traffic_manager.update_vehicle_lights(dummy_vehicle, True)\n",
    "traffic_manager.random_left_lanechange_percentage(dummy_vehicle, 0)\n",
    "traffic_manager.random_right_lanechange_percentage(dummy_vehicle, 0)\n",
    "traffic_manager.auto_lane_change(dummy_vehicle, False)\n",
    "traffic_manager.set_path(dummy_vehicle, route_1)"
   ]
  },
  {
   "cell_type": "code",
   "execution_count": 6,
   "metadata": {},
   "outputs": [],
   "source": [
    "\n",
    "\n",
    "duration = 2 * 60 + 11\n",
    "\n",
    "start_time = time.time()\n",
    "\n",
    "with open(\"output.txt\", \"w\") as file:\n",
    "    while time.time() - start_time < duration:\n",
    "        current_loc = dummy_vehicle.get_location()\n",
    "        current_time = time.time()\n",
    "        file.write(str(current_loc))\n",
    "        # Sleep for a short period to prevent CPU overload\n",
    "        time.sleep(10)"
   ]
  }
 ],
 "metadata": {
  "kernelspec": {
   "display_name": "Python 3",
   "language": "python",
   "name": "python3"
  },
  "language_info": {
   "codemirror_mode": {
    "name": "ipython",
    "version": 3
   },
   "file_extension": ".py",
   "mimetype": "text/x-python",
   "name": "python",
   "nbconvert_exporter": "python",
   "pygments_lexer": "ipython3",
   "version": "3.8.0"
  }
 },
 "nbformat": 4,
 "nbformat_minor": 2
}
