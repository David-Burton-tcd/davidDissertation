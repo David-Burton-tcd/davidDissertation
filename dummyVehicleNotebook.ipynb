{
 "cells": [
  {
   "cell_type": "code",
   "execution_count": 1,
   "metadata": {},
   "outputs": [
    {
     "name": "stdout",
     "output_type": "stream",
     "text": [
      "Requirement already satisfied: carla in c:\\users\\david\\appdata\\local\\programs\\python\\python38\\lib\\site-packages (0.9.15)\n",
      "Note: you may need to restart the kernel to use updated packages.\n"
     ]
    },
    {
     "name": "stderr",
     "output_type": "stream",
     "text": [
      "\n",
      "[notice] A new release of pip is available: 24.1.1 -> 24.1.2\n",
      "[notice] To update, run: python.exe -m pip install --upgrade pip\n"
     ]
    }
   ],
   "source": [
    "%pip install carla"
   ]
  },
  {
   "cell_type": "code",
   "execution_count": 1,
   "metadata": {},
   "outputs": [],
   "source": [
    "import carla\n",
    "import math\n",
    "import random\n",
    "import time\n",
    "\n",
    "client = carla.Client('localhost', 2000)\n",
    "world = client.get_world()\n",
    "\n",
    "bp_lib = world.get_blueprint_library()\n",
    "spawn_points = world.get_map().get_spawn_points()\n",
    "vehicle_bp = bp_lib.find('vehicle.tesla.model3')\n",
    "\n",
    "traffic_manager = client.get_trafficmanager()\n",
    "\n",
    "dummy_spawn_point = spawn_points[20] #26\n",
    "\n",
    "# create our dummy vehicle at spawn point\n",
    "dummy_vehicle = world.try_spawn_actor(vehicle_bp, dummy_spawn_point)"
   ]
  },
  {
   "cell_type": "code",
   "execution_count": 2,
   "metadata": {},
   "outputs": [],
   "source": [
    "spawn_point_1 = spawn_points[20]\n",
    "route_1_indices = [20, 123, 147, 111, 189, 47, 41, 34, 184, 204, 20]\n",
    "route_1 = []\n",
    "for ind in route_1_indices:\n",
    "    route_1.append(spawn_points[ind].location)\n",
    "\n",
    "world.debug.draw_string(spawn_point_1.location, 'Spawn point 1', life_time=30, color=carla.Color(255,0,0))\n",
    "\n",
    "for ind in route_1_indices:\n",
    "    spawn_points[ind].location\n",
    "    world.debug.draw_string(spawn_points[ind].location, str(ind), life_time=60, color=carla.Color(255,0,0))\n",
    "\n",
    "# waypoints = [map.get_waypoint(transform.location) for transform in route]"
   ]
  },
  {
   "cell_type": "code",
   "execution_count": 3,
   "metadata": {},
   "outputs": [],
   "source": [
    "list_actor = world.get_actors()\n",
    "for actor_ in list_actor:\n",
    "    if isinstance(actor_, carla.TrafficLight):\n",
    "            # for every light, set to green\n",
    "        actor_.set_state(carla.TrafficLightState.Green) \n",
    "        actor_.set_green_time(1000.0)"
   ]
  },
  {
   "cell_type": "code",
   "execution_count": null,
   "metadata": {},
   "outputs": [],
   "source": [
    "current_loc = dummy_vehicle.get_location()\n",
    "print(str(current_loc))"
   ]
  },
  {
   "cell_type": "code",
   "execution_count": 5,
   "metadata": {},
   "outputs": [
    {
     "ename": "AttributeError",
     "evalue": "'Location' object has no attribute 'as_str'",
     "output_type": "error",
     "traceback": [
      "\u001b[1;31m---------------------------------------------------------------------------\u001b[0m",
      "\u001b[1;31mAttributeError\u001b[0m                            Traceback (most recent call last)",
      "Cell \u001b[1;32mIn[5], line 24\u001b[0m\n\u001b[0;32m     22\u001b[0m \u001b[38;5;66;03m# Your loop logic here\u001b[39;00m\n\u001b[0;32m     23\u001b[0m current_time \u001b[38;5;241m=\u001b[39m time\u001b[38;5;241m.\u001b[39mtime()\n\u001b[1;32m---> 24\u001b[0m file\u001b[38;5;241m.\u001b[39mwrite(\u001b[43mcurrent_loc\u001b[49m\u001b[38;5;241;43m.\u001b[39;49m\u001b[43mas_str\u001b[49m())\n\u001b[0;32m     26\u001b[0m \u001b[38;5;66;03m# Sleep for a short period to prevent CPU overload (optional)\u001b[39;00m\n\u001b[0;32m     27\u001b[0m time\u001b[38;5;241m.\u001b[39msleep(\u001b[38;5;241m2\u001b[39m)\n",
      "\u001b[1;31mAttributeError\u001b[0m: 'Location' object has no attribute 'as_str'"
     ]
    }
   ],
   "source": [
    "# while True:\n",
    "#     world.tick()\n",
    "# traffic_manager.set_desired_speed(dummy_vehicle, 100)\n",
    "dummy_vehicle.set_autopilot(True) # Give TM control over vehicle\n",
    "\n",
    "# Set parameters of TM vehicle control, we don't want lane changes\n",
    "traffic_manager.global_percentage_speed_difference(-30)\n",
    "traffic_manager.update_vehicle_lights(dummy_vehicle, True)\n",
    "traffic_manager.random_left_lanechange_percentage(dummy_vehicle, 0)\n",
    "traffic_manager.random_right_lanechange_percentage(dummy_vehicle, 0)\n",
    "traffic_manager.auto_lane_change(dummy_vehicle, False)\n",
    "traffic_manager.set_path(dummy_vehicle, route_1)\n",
    "\n",
    "duration = 2 * 60 + 11\n",
    "\n",
    "start_time = time.time()\n",
    "\n",
    "with open(\"output.txt\", \"w\") as file:\n",
    "    # Loop until the elapsed time is less than the defined duration\n",
    "    while time.time() - start_time < duration:\n",
    "        current_loc = dummy_vehicle.get_location()\n",
    "        # Your loop logic here\n",
    "        current_time = time.time()\n",
    "        file.write(current_loc.as_str())\n",
    "        \n",
    "        # Sleep for a short period to prevent CPU overload (optional)\n",
    "        time.sleep(2)"
   ]
  },
  {
   "cell_type": "code",
   "execution_count": null,
   "metadata": {},
   "outputs": [],
   "source": []
  },
  {
   "cell_type": "code",
   "execution_count": null,
   "metadata": {},
   "outputs": [
    {
     "name": "stdout",
     "output_type": "stream",
     "text": [
      "Location(x=392.470001, y=308.210022, z=0.001496)\n"
     ]
    }
   ],
   "source": [
    "print(dummy_vehicle.get_location())"
   ]
  },
  {
   "cell_type": "code",
   "execution_count": null,
   "metadata": {},
   "outputs": [],
   "source": []
  }
 ],
 "metadata": {
  "kernelspec": {
   "display_name": "Python 3",
   "language": "python",
   "name": "python3"
  },
  "language_info": {
   "codemirror_mode": {
    "name": "ipython",
    "version": 3
   },
   "file_extension": ".py",
   "mimetype": "text/x-python",
   "name": "python",
   "nbconvert_exporter": "python",
   "pygments_lexer": "ipython3",
   "version": "3.8.0"
  }
 },
 "nbformat": 4,
 "nbformat_minor": 2
}
