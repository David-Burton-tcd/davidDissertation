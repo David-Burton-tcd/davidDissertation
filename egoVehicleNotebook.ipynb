{
 "cells": [
  {
   "cell_type": "code",
   "execution_count": 1,
   "metadata": {},
   "outputs": [],
   "source": [
    "import carla\n",
    "from slotManagement import *\n",
    "\n",
    "client = carla.Client('localhost', 2000)\n",
    "world = client.get_world()\n",
    "\n",
    "bp_lib = world.get_blueprint_library()\n",
    "spawn_points = world.get_map().get_spawn_points()\n",
    "traffic_manager = client.get_trafficmanager()\n"
   ]
  },
  {
   "cell_type": "code",
   "execution_count": 2,
   "metadata": {},
   "outputs": [
    {
     "name": "stdout",
     "output_type": "stream",
     "text": [
      "[Actor(id=169, type=vehicle.tesla.model3), Actor(id=170, type=vehicle.tesla.model3)]\n"
     ]
    }
   ],
   "source": [
    "actor_list = world.get_actors()\n",
    "vehicle_list = actor_list.filter('vehicle.*')\n",
    "\n",
    "print(vehicle_list)\n",
    "ego_vehicle = any\n",
    "\n",
    "for car in vehicle_list:\n",
    "    if str(car.type) == \"vehicle.tesla.model3\":\n",
    "        ego_vehicle = car\n",
    "\n",
    "print(ego_vehicle)"
   ]
  },
  {
   "cell_type": "code",
   "execution_count": null,
   "metadata": {},
   "outputs": [],
   "source": []
  },
  {
   "cell_type": "code",
   "execution_count": 44,
   "metadata": {},
   "outputs": [
    {
     "name": "stdout",
     "output_type": "stream",
     "text": [
      "Location(x=356.313965, y=326.610077, z=0.001880)\n",
      "Location(x=392.470001, y=308.210022, z=0.001626)\n",
      "Location(x=392.470001, y=308.210022, z=0.001626)\n",
      "Location(x=392.470001, y=308.210022, z=0.001626)\n",
      "Location(x=392.470001, y=308.210022, z=0.001626)\n",
      "seperator\n"
     ]
    }
   ],
   "source": [
    "class Slot:\n",
    "    def __init__(self, x, y, z, is_occupied=False, vehicle=None):\n",
    "        self.loc = carla.Location(x, y, z)\n",
    "        self.is_occupied = is_occupied\n",
    "        self.vehicle = vehicle\n",
    "    \n",
    "    def set_occupied_vehicle(self, vehicle_occupier):\n",
    "        self.vehicle = vehicle_occupier\n",
    "        self.is_occupied = True\n",
    "    \n",
    "    def set_loc(self, x, y, z):\n",
    "        self.loc = carla.Location(x,y,z)\n",
    "\n",
    "    def get_loc(self):\n",
    "        return self.loc\n",
    "\n",
    "    def get_is_occupied(self):\n",
    "        return self.is_occupied\n",
    "    \n",
    "    def free_up_slot(self):\n",
    "        self.vehicle = None\n",
    "\n",
    "def initialize_grid(grid_size_x, grid_size_y, slot_size, initial_vehicle):\n",
    "    slots = [[],[]]\n",
    "    inital_location = initial_vehicle.get_location()\n",
    "    inital_slot = Slot(inital_location.x, inital_location.y, inital_location.z, True, initial_vehicle.id)\n",
    "    slots[1].append(inital_slot)\n",
    "    data_index = 0\n",
    "\n",
    "    with open(\"output.txt\", \"r\") as file:\n",
    "        data = file.readlines()\n",
    "    for i in range(grid_size_x):\n",
    "        for j in range(grid_size_y):\n",
    "            line = data[data_index].strip()\n",
    "            match = re.match(r\"Location\\(x=([-.\\d]+), y=([-.\\d]+), z=([-.\\d]+)\\)\", line)\n",
    "            x, y, z = map(float, match.groups())\n",
    "            # TODO update slots to be on map\n",
    "            slot = Slot(x, y, z)\n",
    "            slots[i].append(slot)\n",
    "    slots[grid_size_x-1].pop()\n",
    "    return slots\n",
    "\n",
    "def slot_back_propagation(slots, initial_vehicle):\n",
    "    new_location = initial_vehicle.get_location()\n",
    "\n",
    "    for slot in slots[1]:\n",
    "        old_location = slot.get_loc()\n",
    "        slot.set_loc(new_location.x, new_location.y, new_location.z)\n",
    "        new_location = old_location\n",
    "    return slots\n",
    "\n",
    "slots = initialize_grid(2, 67, 5.0, ego_vehicle)\n",
    "\n",
    "print(slots[1][0].get_loc())\n",
    "print(slots[1][1].get_loc())\n",
    "print(slots[1][2].get_loc())\n",
    "print(slots[1][3].get_loc())\n",
    "print(slots[1][4].get_loc())\n",
    "print(\"seperator\")\n",
    "\n",
    "# print(slot_grid[1],[2])"
   ]
  }
 ],
 "metadata": {
  "kernelspec": {
   "display_name": "Python 3",
   "language": "python",
   "name": "python3"
  },
  "language_info": {
   "codemirror_mode": {
    "name": "ipython",
    "version": 3
   },
   "file_extension": ".py",
   "mimetype": "text/x-python",
   "name": "python",
   "nbconvert_exporter": "python",
   "pygments_lexer": "ipython3",
   "version": "3.8.0"
  }
 },
 "nbformat": 4,
 "nbformat_minor": 2
}
